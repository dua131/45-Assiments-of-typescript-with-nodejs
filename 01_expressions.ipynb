{
  "nbformat": 4,
  "nbformat_minor": 0,
  "metadata": {
    "colab": {
      "provenance": [],
      "authorship_tag": "ABX9TyMHatpHWMF+5DMwFxDz9crL",
      "include_colab_link": true
    },
    "kernelspec": {
      "name": "python3",
      "display_name": "Python 3"
    },
    "language_info": {
      "name": "python"
    }
  },
  "cells": [
    {
      "cell_type": "markdown",
      "metadata": {
        "id": "view-in-github",
        "colab_type": "text"
      },
      "source": [
        "<a href=\"https://colab.research.google.com/github/dua131/45-Assiments-of-typescript-with-nodejs/blob/main/01_expressions.ipynb\" target=\"_parent\"><img src=\"https://colab.research.google.com/assets/colab-badge.svg\" alt=\"Open In Colab\"/></a>"
      ]
    },
    {
      "cell_type": "code",
      "execution_count": 1,
      "metadata": {
        "colab": {
          "base_uri": "https://localhost:8080/"
        },
        "id": "4XUy2PT2UzwX",
        "outputId": "49ddcd2b-e038-4c90-9b18-8a24cfb03bd4"
      },
      "outputs": [
        {
          "output_type": "stream",
          "name": "stdout",
          "text": [
            "01_dicesimulator\n",
            "die1 in main() start as: 10\n",
            "Total of two dies: 3\n",
            "Total of two dies: 9\n",
            "Total of two dies: 9\n",
            "die1 in main() is: 10\n"
          ]
        }
      ],
      "source": [
        "import random\n",
        "print(\"01_dicesimulator\")\n",
        "\n",
        "def roll_dice():\n",
        "  die1:int = random.randint(1,6)\n",
        "  die2:int = random.randint(1,6)\n",
        "  total:int = die1 + die2\n",
        "  print(f'Total of two dies: {total}')\n",
        "\n",
        "def main():\n",
        "  die1:int = 10\n",
        "  print(\"die1 in main() start as: \" + str(die1))\n",
        "  roll_dice()\n",
        "  roll_dice()\n",
        "  roll_dice()\n",
        "  print(\"die1 in main() is: \" + str(die1))\n",
        "\n",
        "if __name__ == \"__main__\":\n",
        "  main()"
      ]
    },
    {
      "cell_type": "code",
      "source": [
        "print(\"02_e=mc2\")\n",
        "\n",
        "def energy():\n",
        "  c:float = 299792458\n",
        "  m:float = float(input(\"Enter Kilos of mass: \"))\n",
        "  print(\"e = m*c^2\")\n",
        "  print(\"Mass = \" + str(m) + \" kg\")\n",
        "  print(\"C = \"+ str(c) + \" m/s\")\n",
        "  print(\"e = \" + str(m * c ** 2) + \" jules\")\n",
        "\n",
        "if __name__ == \"__main__\":\n",
        "  energy()"
      ],
      "metadata": {
        "colab": {
          "base_uri": "https://localhost:8080/"
        },
        "id": "0W6PFQDoWorY",
        "outputId": "ad642fe9-6a36-4d71-ed83-1d4a599a4707"
      },
      "execution_count": 2,
      "outputs": [
        {
          "output_type": "stream",
          "name": "stdout",
          "text": [
            "02_e=mc2\n",
            "Enter Kilos of mass: 55\n",
            "e = m*c^2\n",
            "Mass = 55.0 kg\n",
            "C = 299792458 m/s\n",
            "e = 4.943153483052497e+18 jules\n"
          ]
        }
      ]
    },
    {
      "cell_type": "code",
      "source": [
        "print(\"03_feet_to_inches\")\n",
        "\n",
        "inch: int = 12\n",
        "\n",
        "def foot():\n",
        "  feet:int = int(input(\"Enter feet and i will convert into inches. \"))\n",
        "  print(f'There are {inch * feet} inches in {feet} feet.')\n",
        "\n",
        "if __name__== \"__main__\":\n",
        "  foot()\n",
        ""
      ],
      "metadata": {
        "colab": {
          "base_uri": "https://localhost:8080/"
        },
        "id": "nADETl96WvF8",
        "outputId": "1c2a243a-02c6-443e-b234-2a4b718704bd"
      },
      "execution_count": 3,
      "outputs": [
        {
          "output_type": "stream",
          "name": "stdout",
          "text": [
            "03_feet_to_inches\n",
            "Enter feet and i will convert into inches. 66\n",
            "There are 792 inches in 66 feet.\n"
          ]
        }
      ]
    },
    {
      "cell_type": "code",
      "source": [
        "import math\n",
        "print(\"04_pythagorean_theorem\")\n",
        "\n",
        "def triangle():\n",
        "  ab:float = float(input(\"Enter the length of the side ab. \"))\n",
        "  ac:float = float(input(\"Enter the length of the side ac. \"))\n",
        "  bc:float = math.sqrt(ab**2 + ac**2)\n",
        "  print(f'The length of bc (the hypothenuse is : {bc})')\n",
        "\n",
        "if __name__==\"__main__\":\n",
        "  triangle()"
      ],
      "metadata": {
        "colab": {
          "base_uri": "https://localhost:8080/"
        },
        "id": "4vxaW2AnW24w",
        "outputId": "02c8e86a-03ee-40f3-b841-c372ca9690d7"
      },
      "execution_count": 4,
      "outputs": [
        {
          "output_type": "stream",
          "name": "stdout",
          "text": [
            "04_pythagorean_theorem\n",
            "Enter the length of the side ab. 12\n",
            "Enter the length of the side ac. 33\n",
            "The length of bc (the hypothenuse is : 35.11409973215888)\n"
          ]
        }
      ]
    },
    {
      "cell_type": "code",
      "source": [
        "print(\"05_remainder_division\")\n",
        "\n",
        "def reminder():\n",
        "  num1:int = int(input(\"Enter an integer to be divided: \"))\n",
        "  num2:int = int(input(\"Enter an integer to divide by: \"))\n",
        "  quotient:int = num1 // num2\n",
        "  remainder:int = num1 % num2\n",
        "  print(f'The result of following division is {quotient} with the reminder of {remainder}')\n",
        "\n",
        "if __name__ == \"__main__\":\n",
        "  reminder()"
      ],
      "metadata": {
        "colab": {
          "base_uri": "https://localhost:8080/"
        },
        "id": "qwsovXLzYPJC",
        "outputId": "da845398-7f9a-4791-b7ce-b1c978c48017"
      },
      "execution_count": 5,
      "outputs": [
        {
          "output_type": "stream",
          "name": "stdout",
          "text": [
            "05_remainder_division\n",
            "Enter an integer to be divided: 45\n",
            "Enter an integer to divide by: 2\n",
            "The result of following division is 22 with the reminder of 1\n"
          ]
        }
      ]
    },
    {
      "cell_type": "code",
      "source": [
        "import random\n",
        "print(\"06_rolldice.\")\n",
        "\n",
        "def dice():\n",
        "  die1:int= random.randint(1,6)\n",
        "  die2:int  = random.randint(1,6)\n",
        "  total:int = int(die1 + die2)\n",
        "  print(\"First die: \" + str(die1))\n",
        "  print(\"Second die:\" + str(die2))\n",
        "  print(f'Total of two dies : {total}' )\n",
        "\n",
        "if __name__==\"__main__\":\n",
        "  dice()\n",
        ""
      ],
      "metadata": {
        "colab": {
          "base_uri": "https://localhost:8080/"
        },
        "id": "J6iDBigRYjSi",
        "outputId": "2d65becf-2b5a-44c1-fe72-995dcf7f1e44"
      },
      "execution_count": 6,
      "outputs": [
        {
          "output_type": "stream",
          "name": "stdout",
          "text": [
            "06_rolldice.\n",
            "First die: 2\n",
            "Second die:6\n",
            "Total of two dies : 8\n"
          ]
        }
      ]
    },
    {
      "cell_type": "code",
      "source": [
        "print(\"06_seconds_in_year\")\n",
        "\n",
        "days_in_year:int = 365\n",
        "hours_per_day:int = 24\n",
        "minutes_per_hour:int = 60\n",
        "seconds_per_minute:int = 60\n",
        "\n",
        "def seconds():\n",
        "  print(f'There are {days_in_year * hours_per_day * minutes_per_hour * seconds_per_minute} seconds in a year!')\n",
        "\n",
        "if __name__==\"__main__\":\n",
        "  seconds()"
      ],
      "metadata": {
        "colab": {
          "base_uri": "https://localhost:8080/"
        },
        "id": "JFtLrOl6deFe",
        "outputId": "2088995a-ae90-4a25-ab98-28631d194d07"
      },
      "execution_count": 7,
      "outputs": [
        {
          "output_type": "stream",
          "name": "stdout",
          "text": [
            "06_seconds_in_year\n",
            "There are 31536000 seconds in a year!\n"
          ]
        }
      ]
    },
    {
      "cell_type": "code",
      "source": [
        "print(\"7_tiny_mad_lib\")\n",
        "\n",
        "def mad_lib():\n",
        "  noun:str = str(input(\"Enter a noun: \"))\n",
        "  adjective:str = str(input(\"Enter an adjective: \"))\n",
        "  verb:str = str(input(\"Enter a verb: \"))\n",
        "  print(f\"Do you {verb} your {adjective} {noun}?\")\n",
        "\n",
        "\n",
        "\n",
        "if __name__==\"__main__\":\n",
        "  mad_lib()\n",
        ""
      ],
      "metadata": {
        "colab": {
          "base_uri": "https://localhost:8080/"
        },
        "id": "Gl5nblMie8A1",
        "outputId": "7c11a442-0247-4a41-a459-a5237f2ebb79"
      },
      "execution_count": 8,
      "outputs": [
        {
          "output_type": "stream",
          "name": "stdout",
          "text": [
            "7_tiny_mad_lib\n",
            "Enter a noun: cat\n",
            "Enter an adjective: cute\n",
            "Enter a verb: sleep\n",
            "Do you sleep your cute cat?\n"
          ]
        }
      ]
    }
  ]
}